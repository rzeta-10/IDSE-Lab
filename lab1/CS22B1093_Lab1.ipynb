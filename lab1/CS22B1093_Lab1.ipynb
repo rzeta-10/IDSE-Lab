{
 "cells": [
  {
   "cell_type": "code",
   "execution_count": null,
   "metadata": {},
   "outputs": [],
   "source": [
    "Rohan G\n",
    "CS22B1093"
   ]
  },
  {
   "cell_type": "code",
   "execution_count": 7,
   "metadata": {},
   "outputs": [
    {
     "name": "stdout",
     "output_type": "stream",
     "text": [
      "The temperature in Celcius is : 36.2\n",
      "The temperature in fahrenheit is : 97.16\n"
     ]
    }
   ],
   "source": [
    "#Question 1\n",
    "celcius = float(input(\"Enter the temperature in Celcius : \"))\n",
    "fahrenheit = (celcius*(9/5))+32\n",
    "\n",
    "print(f\"The temperature in Celcius is : {celcius}\")\n",
    "print(f\"The temperature in fahrenheit is : {round(fahrenheit,3)}\")"
   ]
  },
  {
   "cell_type": "code",
   "execution_count": 8,
   "metadata": {},
   "outputs": [
    {
     "name": "stdout",
     "output_type": "stream",
     "text": [
      "The entered birth year is : 2003\n",
      "Your approximate age is : 21\n"
     ]
    }
   ],
   "source": [
    "#Question 2\n",
    "year = int(input(\"Enter your birth year : \"))\n",
    "if(year <= 0):\n",
    "    print(\"Invalid Input. Try again\")\n",
    "else:\n",
    "    print(f\"The entered birth year is : {year}\")\n",
    "    print(f\"Your approximate age is : {2024-year}\")"
   ]
  },
  {
   "cell_type": "code",
   "execution_count": 9,
   "metadata": {},
   "outputs": [
    {
     "name": "stdout",
     "output_type": "stream",
     "text": [
      "The principal amount is : 1000.0\n",
      "The annual interest rate is : 1.0\n",
      "The number of years is : 5.0\n",
      "The time interest is : 1.0\n",
      "The principal amount is : 1000.0\n",
      "The annual interest rate is : 1.0\n",
      "The number of years is : 5.0\n",
      "The time interest is : 1.0\n",
      "The final amount after compunded interest is : 2000.0\n"
     ]
    }
   ],
   "source": [
    "#Question 3\n",
    "principal_amount = float(input(\"Enter the principal amount(P) : \"))\n",
    "interest_rate = float(input(\"Enter the annual interest rate(r) as percentage : \"))\n",
    "years = float(input(\"Enter the number of years(t) : \"))\n",
    "compunded = float(input(\"Enter the number of time interest is compouded per year(n) : \"))\n",
    "\n",
    "print(f\"The principal amount is : {principal_amount}\")\n",
    "print(f\"The annual interest rate is : {interest_rate}\")\n",
    "print(f\"The number of years is : {years}\")\n",
    "print(f\"The time interest is : {compunded}\")\n",
    "\n",
    "final_amount = principal_amount*(1+(interest_rate/compunded)**(compunded*years))\n",
    "\n",
    "print(f\"The principal amount is : {principal_amount}\")\n",
    "print(f\"The annual interest rate is : {interest_rate}\")\n",
    "print(f\"The number of years is : {years}\")\n",
    "print(f\"The time interest is : {compunded}\")\n",
    "\n",
    "\n",
    "print(f\"The final amount after compunded interest is : {final_amount}\")"
   ]
  },
  {
   "cell_type": "code",
   "execution_count": 10,
   "metadata": {},
   "outputs": [
    {
     "name": "stdout",
     "output_type": "stream",
     "text": [
      "The age of Ram is : 10.0\n",
      "The age of Shyam is : 10.0\n",
      "The age of Ajay is : 7.0\n",
      "Both Ram and Shyam have same ages and are elder than Ajay\n"
     ]
    }
   ],
   "source": [
    "#Question 4\n",
    "age_ram = float(input(\"Enter the age of Ram : \"))\n",
    "age_shyam = float(input(\"Enter the age of Shyam : \"))\n",
    "age_ajay = float(input(\"Enter the age of Ajay : \"))\n",
    "\n",
    "print(f\"The age of Ram is : {age_ram}\")\n",
    "print(f\"The age of Shyam is : {age_shyam}\")\n",
    "print(f\"The age of Ajay is : {age_ajay}\")\n",
    "\n",
    "if(age_ajay<=0 or age_ram<=0 or age_shyam<=0):\n",
    "    print(\"Invalid Input. Try Again! \")\n",
    "elif(age_ajay>age_shyam and age_ajay>age_ram):\n",
    "    print(\"Ajay is the eldest among the three\")\n",
    "elif(age_shyam>age_ram and age_shyam>age_ajay):\n",
    "    print(\"Shyam is the eldest among the three\")\n",
    "elif(age_ram>age_ajay and age_ram>age_shyam):\n",
    "    print(\"Ram is the eldest among the three\")\n",
    "elif(age_ram==age_shyam and age_ram>age_ajay):\n",
    "    print(\"Both Ram and Shyam have same ages and are elder than Ajay\")\n",
    "elif(age_ram==age_ajay and age_ram>age_shyam):\n",
    "    print(\"Both Ram and Ajay have same ages and are elder than Shyam\")\n",
    "elif(age_ajay==age_shyam and age_shyam>age_ram):\n",
    "    print(\"Both Ajay and Shyam have same ages and are elder than Ram\")\n",
    "else:\n",
    "    print(\"All the three have the same ages\")"
   ]
  },
  {
   "cell_type": "code",
   "execution_count": 11,
   "metadata": {},
   "outputs": [
    {
     "name": "stdout",
     "output_type": "stream",
     "text": [
      "The entered percentage is : 97.3\n",
      "The Grade is A\n"
     ]
    }
   ],
   "source": [
    "#Question 5\n",
    "percent = float(input(\"Enter the percentage : \"))\n",
    "\n",
    "print(f\"The entered percentage is : {percent}\")\n",
    "\n",
    "if (percent < 0 or percent > 100):\n",
    "    print(\"Invalid Input. Try Again!\")\n",
    "elif(percent>=90 and percent<=100):\n",
    "    print(\"The Grade is A\")\n",
    "elif(percent>=80 and percent<=89):\n",
    "    print(\"The Grade is B\")\n",
    "elif(percent>=70 and percent<=79):\n",
    "    print(\"The Grade is C\")\n",
    "elif(percent>=60 and percent<=69):\n",
    "    print(\"The Grade is D\")\n",
    "else:\n",
    "    print(\"The Grade is F\")"
   ]
  },
  {
   "cell_type": "code",
   "execution_count": 13,
   "metadata": {},
   "outputs": [
    {
     "name": "stdout",
     "output_type": "stream",
     "text": [
      "The entered number is : 12345\n",
      "The reverse of the entered number is : 54321\n",
      "The entered number and its reverse are not equal\n"
     ]
    }
   ],
   "source": [
    "#Question 6\n",
    "a = input(\"Enter five digit number\")\n",
    "print(f\"The entered number is : {a}\")\n",
    "\n",
    "if(len(a)>5):\n",
    "    print(\"Invalid Input. Try Again!\")\n",
    "else:\n",
    "    b = a[::-1]\n",
    "    print(f\"The reverse of the entered number is : {b}\")\n",
    "    a = int(a)\n",
    "    b = int(b)\n",
    "\n",
    "    if(a==b):\n",
    "        print(\"The entered number and its reverse are equal\")\n",
    "    else:\n",
    "        print(\"The entered number and its reverse are not equal\")"
   ]
  },
  {
   "cell_type": "code",
   "execution_count": 14,
   "metadata": {},
   "outputs": [
    {
     "name": "stdout",
     "output_type": "stream",
     "text": [
      "The hardness of steel is : 54.0\n",
      "The carbon content in the steel is : 0.2\n",
      "The tensile strength of the steel is : 6000.0\n",
      "The steel is of Grade 10\n"
     ]
    }
   ],
   "source": [
    "#Question 7 and 8\n",
    "hardness = float(input(\"Enter the hardness of Steel : \"))\n",
    "carbon_content = float(input(\"Enter the carbon content in the steel : \"))\n",
    "tensile_strength = float(input(\"Enter the tensile strength of the steel : \"))\n",
    "\n",
    "print(f\"The hardness of steel is : {hardness}\")\n",
    "print(f\"The carbon content in the steel is : {carbon_content}\")\n",
    "print(f\"The tensile strength of the steel is : {tensile_strength}\")\n",
    "\n",
    "if(hardness<=0 or carbon_content<=0 or tensile_strength<=0):\n",
    "    print(\"Invalid Input. Try Again!\")\n",
    "else:\n",
    "    if(hardness>50 and carbon_content<0.7 and tensile_strength>5600):\n",
    "        print(\"The steel is of Grade 10\")\n",
    "    elif(hardness>50 and carbon_content<0.7 and tensile_strength<=5600):\n",
    "        print(\"The grade of steel is 9\")\n",
    "    elif(hardness<=50 and carbon_content<0.7 and tensile_strength>5600):\n",
    "        print(\"The grade of steel is 8\")\n",
    "    elif(hardness>50 and carbon_content>=0.7 and tensile_strength>5600):\n",
    "        print(\"The grade of steel is 7\")\n",
    "    elif(hardness>50 or carbon_content<0.7 or tensile_strength>5600):\n",
    "        print(\"The grade of steel is 6\")\n",
    "    else:\n",
    "        print(\"The grade of steel is 5\")"
   ]
  },
  {
   "cell_type": "code",
   "execution_count": 12,
   "metadata": {},
   "outputs": [
    {
     "name": "stdout",
     "output_type": "stream",
     "text": [
      "Enter the sides of the triangle\n",
      "Length of side a : 3.0\n",
      "Length of side b : 4.0\n",
      "Length of side c : 5.0\n",
      "The given triangle is right-angled triangle\n"
     ]
    }
   ],
   "source": [
    "#Question 9\n",
    "print(\"Enter the sides of the triangle\")\n",
    "a = float(input(\"Enter the length of side a : \"))\n",
    "b = float(input(\"Enter the length of side b : \"))\n",
    "c = float(input(\"Enter the length of side c : \"))\n",
    "\n",
    "print(f\"Length of side a : {a}\")\n",
    "print(f\"Length of side b : {b}\")\n",
    "print(f\"Length of side c : {c}\")\n",
    "if(a<=0 or b<=0 or c<=0):\n",
    "    print(\"Invalid Input. Try Again! \")\n",
    "else:\n",
    "    if((a==b) or (b==c) or (a==c)):\n",
    "        print(\"The given triangle is isosceles\")\n",
    "    elif(a==b==c):\n",
    "        print(\"The given triangle is equilateral\")\n",
    "    elif((a**2+b**2==c**2)or(b**2+c**2==a**2)or(a**2+c**2==b**2)):\n",
    "        print(\"The given triangle is right-angled triangle\")\n",
    "    else:\n",
    "        print(\"The given triangle is scalene\")"
   ]
  },
  {
   "cell_type": "code",
   "execution_count": 15,
   "metadata": {},
   "outputs": [
    {
     "name": "stdout",
     "output_type": "stream",
     "text": [
      "The money in Bob's pocket is : 10\n",
      "The price of chocolate is : 1\n",
      "The number of wrappers to get discount is : 2\n",
      "The total number of chocolates Bob gets to eat is : 15\n"
     ]
    }
   ],
   "source": [
    "#Question 10\n",
    "\n",
    "money = int(input(\"Enter the money in Bob's pocket : \"))\n",
    "chocolate_price = int(input(\"Enter the price of chocolate : \"))\n",
    "wrappers = int(input(\"Enter the number of wrappers to get discount : \"))\n",
    "\n",
    "print(f\"The money in Bob's pocket is : {money}\")\n",
    "print(f\"The price of chocolate is : {chocolate_price}\")\n",
    "print(f\"The number of wrappers to get discount is : {wrappers}\")\n",
    "\n",
    "total_chocolate = money//chocolate_price\n",
    "extra= total_chocolate//wrappers\n",
    "\n",
    "total_chocolate = total_chocolate + extra\n",
    "\n",
    "print(f\"The total number of chocolates Bob gets to eat is : {total_chocolate}\")\n",
    "\n",
    "\n"
   ]
  },
  {
   "cell_type": "code",
   "execution_count": 16,
   "metadata": {},
   "outputs": [
    {
     "name": "stdout",
     "output_type": "stream",
     "text": [
      "The cost of one computer is : 1000.0\n",
      "The number of computers is : 10\n",
      "The cost of one table is : 100.0\n",
      "The number of tables is : 12\n",
      "The cost of one chair is : 50.0\n",
      "The number of chairs is : 15\n",
      "The number of hours worked is : 20.0\n",
      "The wages per hour is : 100.0\n",
      "THe cost spent for setting up the lab is : 13950.0\n"
     ]
    }
   ],
   "source": [
    "#Question 11\n",
    "cost_of_one_computer = float(input(\"Enter the cost of one computer : \"))\n",
    "number_of_computer = int(input(\"Enter the number of computers : \"))\n",
    "\n",
    "cost_of_one_table = float(input(\"Enter the cost of one table : \"))\n",
    "number_of_tables = int(input(\"Enter the number of tables : \"))\n",
    "cost_of_one_chair = float(input(\"Enter the cost of one chair : \"))\n",
    "number_of_chairs = int(input(\"Enter the number of chairs : \"))\n",
    "\n",
    "number_of_hours = float(input(\"Enter the number of hours worked : \"))\n",
    "wages_per_hour = float(input(\"Enter the wages per hour : \"))\n",
    "\n",
    "print(f\"The cost of one computer is : {cost_of_one_computer}\")\n",
    "print(f\"The number of computers is : {number_of_computer}\")\n",
    "print(f\"The cost of one table is : {cost_of_one_table}\")\n",
    "print(f\"The number of tables is : {number_of_tables}\")\n",
    "print(f\"The cost of one chair is : {cost_of_one_chair}\")\n",
    "print(f\"The number of chairs is : {number_of_chairs}\")\n",
    "print(f\"The number of hours worked is : {number_of_hours}\")\n",
    "print(f\"The wages per hour is : {wages_per_hour}\")\n",
    "\n",
    "cost_of_computer = cost_of_one_computer*number_of_computer\n",
    "\n",
    "cost_of_furniture = number_of_tables*cost_of_one_table + number_of_chairs*cost_of_one_chair\n",
    "\n",
    "labour_cost = number_of_hours*wages_per_hour\n",
    "\n",
    "total_cost = cost_of_computer + cost_of_furniture + labour_cost\n",
    "\n",
    "print(f\"THe cost spent for setting up the lab is : {total_cost}\")\n"
   ]
  },
  {
   "cell_type": "code",
   "execution_count": 18,
   "metadata": {},
   "outputs": [
    {
     "name": "stdout",
     "output_type": "stream",
     "text": [
      "The list is : [1, 2, 3, 4, 5, 6]\n",
      "The element to be searched is : 9\n",
      "Element not present in the list\n"
     ]
    }
   ],
   "source": [
    "#Bonus Question\n",
    "#Binary Search\n",
    "\n",
    "def binary_search(arr,search,left,right):\n",
    "    if left > right:\n",
    "        print(\"Element not present in the list\")\n",
    "        return\n",
    "    \n",
    "    mid = (left+right)//2\n",
    "    if(arr[mid]==search):\n",
    "        print(f\"Element found at index : {mid}\")\n",
    "        return\n",
    "    elif(arr[mid]>search):\n",
    "        binary_search(arr,search,left,mid-1)\n",
    "    else:\n",
    "        binary_search(arr,search,mid+1,right)\n",
    "    \n",
    "n = int(input(\"Enter the number of elements in the list\"))\n",
    "arr = []\n",
    "\n",
    "for i in range(n):\n",
    "    arr.append(int(input(\"Enter the element : \")))\n",
    "\n",
    "search = int(input(\"Enter the element to be searched : \"))\n",
    "\n",
    "arr.sort() #Sorting the list\n",
    "\n",
    "print(f\"The list is : {arr}\")\n",
    "print(f\"The element to be searched is : {search}\")\n",
    "binary_search(arr,search,0,n-1)"
   ]
  }
 ],
 "metadata": {
  "kernelspec": {
   "display_name": "Python 3",
   "language": "python",
   "name": "python3"
  },
  "language_info": {
   "codemirror_mode": {
    "name": "ipython",
    "version": 3
   },
   "file_extension": ".py",
   "mimetype": "text/x-python",
   "name": "python",
   "nbconvert_exporter": "python",
   "pygments_lexer": "ipython3",
   "version": "3.10.12"
  }
 },
 "nbformat": 4,
 "nbformat_minor": 2
}
