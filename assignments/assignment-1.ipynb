{
 "cells": [
  {
   "cell_type": "markdown",
   "metadata": {},
   "source": [
    "Rohan G\n",
    "CS22B1093"
   ]
  },
  {
   "cell_type": "code",
   "execution_count": 1,
   "metadata": {},
   "outputs": [
    {
     "name": "stdout",
     "output_type": "stream",
     "text": [
      "Sum of the two numbers:  15\n",
      "Product of the two numbers: 50\n",
      "Difference of the two numbers:  -5\n"
     ]
    }
   ],
   "source": [
    "a = int(input(\"Enter a number: \"))\n",
    "b = int(input(\"Enter another number: \"))\n",
    "\n",
    "#Sum of the two numbers\n",
    "print(\"Sum of the two numbers: \", a+b)\n",
    "\n",
    "#Product of the two numbers\n",
    "print(f\"Product of the two numbers: {a*b}\")\n",
    "\n",
    "#Difference of the two numbers\n",
    "print(\"Difference of the two numbers: \", a-b)"
   ]
  },
  {
   "cell_type": "code",
   "execution_count": 7,
   "metadata": {},
   "outputs": [
    {
     "name": "stdout",
     "output_type": "stream",
     "text": [
      "The input sentence is : Welcome to IDSE course\n",
      "Number of words in the sentence: 4\n",
      "Words in the sentence: \n",
      "Welcome\n",
      "to\n",
      "IDSE\n",
      "course\n"
     ]
    }
   ],
   "source": [
    "sentence = input(\"Enter a sentence: \")\n",
    "print(f\"The input sentence is : {sentence}\")\n",
    "\n",
    "arr = sentence.split()\n",
    "print(f\"Number of words in the sentence: {len(arr)}\")\n",
    "print(\"Words in the sentence: \")\n",
    "for i in arr:\n",
    "    print(i)"
   ]
  },
  {
   "cell_type": "code",
   "execution_count": 6,
   "metadata": {},
   "outputs": [
    {
     "name": "stdout",
     "output_type": "stream",
     "text": [
      "Time Spent is : Hours: 4 :: Minutes: 50\n",
      "The bill is : 250\n"
     ]
    }
   ],
   "source": [
    "hours = int(input(\"Enter the number of hours: \"))\n",
    "minutes = int(input(\"Enter the number of minutes: \"))\n",
    "\n",
    "if(hours < 0 or hours > 7 or minutes<0 or minutes>59):\n",
    "    print(\"Invalid input\")\n",
    "else:\n",
    "    print(f\"Time Spent is -  Hours: {hours} :: Minutes: {minutes}\")\n",
    "    if(hours>=5):\n",
    "        print(f\"The bill is : {200 + (hours-5)*50 + minutes*1}\")\n",
    "    else:\n",
    "        print(f\"The bill is : {hours*50 + minutes*1}\")"
   ]
  }
 ],
 "metadata": {
  "kernelspec": {
   "display_name": "Python 3",
   "language": "python",
   "name": "python3"
  },
  "language_info": {
   "codemirror_mode": {
    "name": "ipython",
    "version": 3
   },
   "file_extension": ".py",
   "mimetype": "text/x-python",
   "name": "python",
   "nbconvert_exporter": "python",
   "pygments_lexer": "ipython3",
   "version": "3.10.12"
  }
 },
 "nbformat": 4,
 "nbformat_minor": 2
}
