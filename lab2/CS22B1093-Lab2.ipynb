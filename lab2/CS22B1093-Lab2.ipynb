{
 "cells": [
  {
   "cell_type": "markdown",
   "id": "767a4af0",
   "metadata": {},
   "source": [
    "CS22B1093\n",
    "ROHAN G"
   ]
  },
  {
   "cell_type": "code",
   "execution_count": 5,
   "id": "95d317df-b108-4643-bcbb-b915139ebac7",
   "metadata": {},
   "outputs": [
    {
     "name": "stdout",
     "output_type": "stream",
     "text": [
      "The factorial of 6 is : 720\n"
     ]
    }
   ],
   "source": [
    "#Question 1\n",
    "\n",
    "n = int(input(\"Enter a number : \"))\n",
    "if(n<0):\n",
    "    print(f\"Input number is negative\")\n",
    "else:\n",
    "    factorial = 1\n",
    "    # for i in range(1,n+1):\n",
    "    #     factorial = factorial * i\n",
    "    # print(f\"The factorial of {n} is : {factorial}\")\n",
    "    [factorial := factorial * i for i in range(1, n + 1)]\n",
    "    print(f\"The factorial of {n} is : {factorial}\")"
   ]
  },
  {
   "cell_type": "code",
   "execution_count": 6,
   "id": "da6dcdf6",
   "metadata": {},
   "outputs": [
    {
     "name": "stdout",
     "output_type": "stream",
     "text": [
      "The actual date of return is : [10, 12, 2003]\n",
      "The expected date of return is : [10, 10, 2003]\n",
      "The fine is : Rs 1000\n"
     ]
    }
   ],
   "source": [
    "# Question 2\n",
    "\n",
    "actual = [int(i) for i in input(\"Enter the actual return date in the format : dd/mm/yyyy \").split('/')]\n",
    "expected = [int(i) for i in input(\"Enter the expected return date in the format : dd/mm/yyyy \").split('/')]\n",
    "\n",
    "print(f\"The actual date of return is : {actual}\")\n",
    "print(f\"The expected date of return is : {expected}\")\n",
    "\n",
    "if (actual[2] > expected[2]):  \n",
    "    print(f\"The fine is : Rs 10000\")\n",
    "elif (actual[1] > expected[1] and actual[2] == expected[2]):  \n",
    "    print(f\"The fine is : Rs {500 * (actual[1] - expected[1])}\")\n",
    "elif (actual[0] > expected[0] and actual[1] == expected[1] and actual[2] == expected[2]): \n",
    "    print(f\"The fine is : Rs {15 * (actual[0] - expected[0])}\")\n",
    "else:  \n",
    "    print(f\"The fine is : Rs 0\")\n"
   ]
  },
  {
   "cell_type": "code",
   "execution_count": 18,
   "id": "c856ae42",
   "metadata": {},
   "outputs": [
    {
     "name": "stdout",
     "output_type": "stream",
     "text": [
      "The input group of numbers is : [1, 2, 3, 4, 5]\n",
      "1 is a factor present in the list\n",
      "3 is a factor present in the list\n"
     ]
    }
   ],
   "source": [
    "#Question 3\n",
    "\n",
    "g = [int(i) for i in input(\"Enter the numbers : \").split(',')[:5]] #Taking only first 5 numbers\n",
    "print(f\"The input group of numbers is : {g}\")\n",
    "n = int(input(\"Enter a number : \"))\n",
    "\n",
    "# flag = False\n",
    "# for i in g:\n",
    "#     if(n%i==0):\n",
    "#         print(f\"{i} is a factor present in list\")\n",
    "#         flag = True\n",
    "\n",
    "# if(not flag):\n",
    "#     print(f\"There are no factors present in the group\")\n",
    "\n",
    "output = ([print(f\"{i} is a factor present in the list\") for i in g if(n%i==0)])\n"
   ]
  },
  {
   "cell_type": "code",
   "execution_count": 17,
   "id": "d2ef9c4f",
   "metadata": {},
   "outputs": [
    {
     "name": "stdout",
     "output_type": "stream",
     "text": [
      "The height of the staircase is : 5\n",
      "\n",
      "\n",
      "\n",
      "#\n",
      "##\n",
      "###\n",
      "####\n",
      "#####\n"
     ]
    }
   ],
   "source": [
    "#Question 4\n",
    "\n",
    "n = int(input(\"Enter the height of the staircase : \"))\n",
    "print(f\"The height of the staircase is : {n}\")\n",
    "print('\\n')\n",
    "\n",
    "# for i in range(0,n):\n",
    "#     for j in range(0,i+1):\n",
    "#         print(\"#\",end='')\n",
    "#     print('\\n')\n",
    "\n",
    "output = [print(\"#\"*i,end='\\n') for i in range(0,n+1)]"
   ]
  },
  {
   "cell_type": "code",
   "execution_count": 20,
   "id": "2337a6e4",
   "metadata": {},
   "outputs": [
    {
     "name": "stdout",
     "output_type": "stream",
     "text": [
      "The marks scored by students are : [10.0, 20.0, 30.0]\n",
      "The class average marks is : 20.0\n"
     ]
    }
   ],
   "source": [
    "#Question 5\n",
    "\n",
    "n = int(input(\"Enter the number of students present in the class : \"))\n",
    "marks = [float(i) for i in input(\"Enter the marks scored by students separated by comma\").split(',')]\n",
    "\n",
    "print(f\"The marks scored by students are : {marks}\")\n",
    "\n",
    "total = 0\n",
    "# for i in marks:\n",
    "#     total = total + i\n",
    "\n",
    "[total := total + i for i in marks]\n",
    "average = total/n\n",
    "\n",
    "print(f\"The class average marks is : {round(average,2)}\")"
   ]
  },
  {
   "cell_type": "code",
   "execution_count": 23,
   "id": "fc86902d",
   "metadata": {},
   "outputs": [
    {
     "name": "stdout",
     "output_type": "stream",
     "text": [
      "User 1 quantities: [10, 10, 10, 10, 10]\n",
      "User 1 prices: [1, 1, 1, 1, 1]\n",
      "User 2 quantities: [20, 20, 20, 20, 20]\n",
      "User 2 prices: [20, 20, 20, 20, 20]\n",
      "User 3 quantities: [30, 30, 30, 30, 30]\n",
      "User 3 prices: [30, 303, 30, 30, 30]\n",
      "User 4 quantities: [30, 2, 2, 2, 2]\n",
      "User 4 prices: [2, 2, 2, 2, 2]\n",
      "User 5 quantities: [5, 5, 5, 55, 5]\n",
      "User 5 prices: [5, 5, 5, 5, 5]\n",
      "Total amount for each person: (50, 2000, 12690, 76, 375)\n",
      "Total amount purchased by all users: 15191\n"
     ]
    }
   ],
   "source": [
    "#Question 6\n",
    "\n",
    "quantities = []\n",
    "prices = []\n",
    "\n",
    "for i in range(5):\n",
    "    user_quantities = [int(input(f\"Enter quantity for item {j+1} for person {i+1}: \")) for j in range(5)]\n",
    "    user_prices = [int(input(f\"Enter price for item {j+1} for person {i+1}: \")) for j in range(5)]\n",
    "    print(f\"User {i+1} quantities: {user_quantities}\")\n",
    "    print(f\"User {i+1} prices: {user_prices}\")\n",
    "    quantities.append(user_quantities)\n",
    "    prices.append(user_prices)\n",
    "\n",
    "data = [[quantities[i][j], prices[i][j]] for i in range(5) for j in range(5)]\n",
    "\n",
    "total_amt = tuple(sum(quantities[i][j] * prices[i][j] for j in range(5)) for i in range(5))\n",
    "print(f\"Total amount for each person: {total_amt}\")\n",
    "\n",
    "total_purchase = sum(total_amt)\n",
    "print(f\"Total amount purchased by all users: {total_purchase}\")\n"
   ]
  }
 ],
 "metadata": {
  "kernelspec": {
   "display_name": "Python 3",
   "language": "python",
   "name": "python3"
  },
  "language_info": {
   "codemirror_mode": {
    "name": "ipython",
    "version": 3
   },
   "file_extension": ".py",
   "mimetype": "text/x-python",
   "name": "python",
   "nbconvert_exporter": "python",
   "pygments_lexer": "ipython3",
   "version": "3.10.12"
  }
 },
 "nbformat": 4,
 "nbformat_minor": 5
}
