{
 "cells": [
  {
   "cell_type": "markdown",
   "metadata": {},
   "source": [
    "### CS22B1093 ROHAN G"
   ]
  },
  {
   "cell_type": "markdown",
   "metadata": {},
   "source": [
    "_________________"
   ]
  },
  {
   "cell_type": "code",
   "execution_count": 1,
   "metadata": {},
   "outputs": [
    {
     "name": "stdout",
     "output_type": "stream",
     "text": [
      "     Name Account Number Account Type     Adhaar_No  Balance\n",
      "0     Ram     9893893891           SB  959389389173  8989839\n",
      "1     Sam     9893893898           CA  959389389179  7690990\n",
      "2  Prabhu     9893893871           SB  959389389159   989330\n"
     ]
    }
   ],
   "source": [
    "#Q1\n",
    "import pandas as pd\n",
    "\n",
    "dataset = {\n",
    "    \"Name\": [\"Ram\",\"Sam\",\"Prabhu\"],\n",
    "    \"Account Number\" : ['9893893891','9893893898','9893893871'],\n",
    "    \"Account Type\" : ['SB','CA','SB'],\n",
    "    \"Adhaar_No\" : ['959389389173',\"959389389179\",\"959389389159\"],\n",
    "    \"Balance\" : [8989839,7690990,989330]\n",
    "}\n",
    "\n",
    "df = pd.DataFrame(dataset)\n",
    "print(df)\n",
    "df.to_csv(\"SBIAccountHolder.csv\",index=False)\n",
    "# print(df.values)"
   ]
  },
  {
   "cell_type": "code",
   "execution_count": 6,
   "metadata": {},
   "outputs": [
    {
     "name": "stdout",
     "output_type": "stream",
     "text": [
      "1.Add Account Holder\n",
      "2.Delete Account Holder\n",
      "3.Credit Amount\n",
      "4.Debit Amount\n",
      "5.Display Account Holder\n",
      "6.Exit\n",
      "Account Holder Added Successfully\n",
      "1.Add Account Holder\n",
      "2.Delete Account Holder\n",
      "3.Credit Amount\n",
      "4.Debit Amount\n",
      "5.Display Account Holder\n",
      "6.Exit\n",
      "    Name Account Number Account Type     Adhaar_No  Balance\n",
      "3  rohan            123           SB  123456789012     1000\n",
      "1.Add Account Holder\n",
      "2.Delete Account Holder\n",
      "3.Credit Amount\n",
      "4.Debit Amount\n",
      "5.Display Account Holder\n",
      "6.Exit\n",
      "Thank you!, Exiting...\n"
     ]
    }
   ],
   "source": [
    "while(True):\n",
    "    print(\"1.Add Account Holder\")\n",
    "    print(\"2.Delete Account Holder\")\n",
    "    print(\"3.Credit Amount\")\n",
    "    print(\"4.Debit Amount\")\n",
    "    print(\"5.Display Account Holder\")\n",
    "    print(\"6.Exit\")\n",
    "    choice = int(input(\"Enter your choice : \"))\n",
    "\n",
    "    if (choice == 1):\n",
    "        name = input(\"Enter Name : \")\n",
    "        acc_no = input(\"Enter Account Number : \")\n",
    "        acc_type = input(\"Enter Account Type : \")\n",
    "        if(acc_type not in ['SB','CA']):\n",
    "            print(\"Invalid Account Type\")\n",
    "            print(\"Try Again!\")\n",
    "            continue\n",
    "        adhaar_no = input(\"Enter Adhaar Number : \")\n",
    "        if(adhaar_no in df.values):\n",
    "            print(\"Adhaar Number already exists\")\n",
    "            print(\"Try Again!\")\n",
    "            continue\n",
    "        if(len(adhaar_no)!=12):\n",
    "            print(\"Adhaar Number should be 12 digits\")\n",
    "            print(\"Try Again!\")\n",
    "            continue\n",
    "        balance = int(input(\"Enter Balance : \"))\n",
    "        if(balance<0):\n",
    "            print(\"Balance should be greater than 0\")\n",
    "            print(\"Try Again!\")\n",
    "            continue\n",
    "        new_row = pd.DataFrame({\n",
    "            \"Name\": [name],\n",
    "            \"Account Number\": [acc_no],\n",
    "            \"Account Type\": [acc_type],\n",
    "            \"Adhaar_No\": [adhaar_no],\n",
    "            \"Balance\": [balance]\n",
    "         })\n",
    "\n",
    "        df = pd.concat([df, new_row], ignore_index=True)\n",
    "        df.to_csv(\"SBIAccountHolder.csv\",index=False)\n",
    "        print(\"Account Holder Added Successfully\")\n",
    "\n",
    "    elif (choice == 2):\n",
    "        acc_no = input(\"Enter Account Number : \")\n",
    "        if(acc_no in df.values):\n",
    "            df = df[df[\"Account Number\"] != acc_no]\n",
    "            df.to_csv(\"SBIAccountHolder.csv\",index=False)\n",
    "            print(\"Account Holder Deleted Successfully\")\n",
    "        else:\n",
    "            print(\"Account Number not found\")\n",
    "\n",
    "    elif (choice == 3):\n",
    "        acc_no = input(\"Enter Account Number : \")\n",
    "        if(acc_no in df.values):\n",
    "            amount = int(input(\"Enter Amount to Credit : \"))\n",
    "            if(amount<0):\n",
    "                print(\"Amount should be greater than 0\")\n",
    "                print(\"Try Again!\")\n",
    "                continue\n",
    "            df.loc[df[\"Account Number\"]==acc_no,\"Balance\"] += amount\n",
    "            df.to_csv(\"SBIAccountHolder.csv\",index=False)\n",
    "            print(\"Amount Credited Successfully\")\n",
    "        else:\n",
    "            print(\"Account Number not found\")\n",
    "    \n",
    "    elif (choice == 4):\n",
    "        acc_no = input(\"Enter Account Number : \")\n",
    "        if(acc_no in df.values):\n",
    "            amount = int(input(\"Enter Amount to Debit : \"))\n",
    "            if(amount<0):\n",
    "                print(\"Amount should be greater than 0\")\n",
    "                print(\"Try Again!\")\n",
    "                continue\n",
    "            if(df.loc[df[\"Account Number\"]==acc_no,\"Balance\"].values[0] < amount):\n",
    "                print(\"Insufficient Balance\")\n",
    "                print(\"Try Again!\")\n",
    "                continue\n",
    "            df.loc[df[\"Account Number\"]==acc_no,\"Balance\"] -= amount\n",
    "            df.to_csv(\"SBIAccountHolder.csv\",index=False)\n",
    "            print(\"Amount Debited Successfully\")\n",
    "        else:\n",
    "            print(\"Account Number not found\")\n",
    "        \n",
    "    elif (choice == 5):\n",
    "        acc_no = input(\"Enter Account Number : \")\n",
    "        if(acc_no in df.values):\n",
    "            print(df[df[\"Account Number\"]==acc_no])\n",
    "        else:\n",
    "            print(\"Account Number not found\")\n",
    "    \n",
    "    elif (choice == 6):\n",
    "        print(\"Thank you!, Exiting...\")\n",
    "        break\n",
    "    else:\n",
    "        print(\"Invalid Choice\")\n",
    "        print(\"Try Again!\")"
   ]
  },
  {
   "cell_type": "code",
   "execution_count": 8,
   "metadata": {},
   "outputs": [
    {
     "name": "stdout",
     "output_type": "stream",
     "text": [
      "     Name     Adhaar_No  Contact_No        DOB  \\\n",
      "0     Ram  959389389173  9840787333  12-2-1990   \n",
      "1     Sam  959389389179  9840787343  12-2-2000   \n",
      "2  Prabhu  959389389159  9840787353  12-2-2010   \n",
      "\n",
      "                            Address  \n",
      "0      No 23, Kandigai, Chennai 127  \n",
      "1  No 73, Melakottaiyu, Chennai 127  \n",
      "2    No 43, Anna Nagar, Chennai 102  \n",
      "   Name_x Account Number Account Type     Adhaar_No  Balance  Name_y  \\\n",
      "0     Ram     9893893891           SB  959389389173  8989839     Ram   \n",
      "1     Sam     9893893898           CA  959389389179  7690990     Sam   \n",
      "2  Prabhu     9893893871           SB  959389389159   989330  Prabhu   \n",
      "\n",
      "   Contact_No        DOB                           Address  \n",
      "0  9840787333  12-2-1990      No 23, Kandigai, Chennai 127  \n",
      "1  9840787343  12-2-2000  No 73, Melakottaiyu, Chennai 127  \n",
      "2  9840787353  12-2-2010    No 43, Anna Nagar, Chennai 102  \n"
     ]
    }
   ],
   "source": [
    "#Q2\n",
    "dataset = {\n",
    "    \"Name\": [\"Ram\",\"Sam\",\"Prabhu\"],\n",
    "    \"Adhaar_No\" : ['959389389173',\"959389389179\",\"959389389159\"],\n",
    "    \"Contact_No\" : ['9840787333','9840787343','9840787353'],\n",
    "    \"DOB\" : ['12-2-1990','12-2-2000','12-2-2010'],\n",
    "    \"Address\" : ['No 23, Kandigai, Chennai 127','No 73, Melakottaiyu, Chennai 127','No 43, Anna Nagar, Chennai 102']\n",
    "}\n",
    "\n",
    "df2 = pd.DataFrame(dataset)\n",
    "print(df2)\n",
    "\n",
    "df2.to_csv(\"Aadhar_DB.csv\",index=False)\n",
    "\n",
    "df3 = df.merge(df2,how='inner',on='Adhaar_No')\n",
    "print(df3)\n",
    "df3.to_csv(\"Combined_DB.csv\",index=False)"
   ]
  },
  {
   "cell_type": "markdown",
   "metadata": {},
   "source": [
    "_______________________________________"
   ]
  }
 ],
 "metadata": {
  "kernelspec": {
   "display_name": "Python 3",
   "language": "python",
   "name": "python3"
  },
  "language_info": {
   "codemirror_mode": {
    "name": "ipython",
    "version": 3
   },
   "file_extension": ".py",
   "mimetype": "text/x-python",
   "name": "python",
   "nbconvert_exporter": "python",
   "pygments_lexer": "ipython3",
   "version": "3.10.12"
  }
 },
 "nbformat": 4,
 "nbformat_minor": 2
}
